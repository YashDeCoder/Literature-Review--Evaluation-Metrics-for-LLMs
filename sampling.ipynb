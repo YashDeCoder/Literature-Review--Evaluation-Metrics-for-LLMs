{
 "cells": [
  {
   "cell_type": "markdown",
   "id": "7c4c0b88",
   "metadata": {},
   "source": [
    "# Sample\n",
    "These are the indeces that were randomly chosen for correlation analysis"
   ]
  },
  {
   "cell_type": "code",
   "execution_count": 1,
   "id": "71deb090",
   "metadata": {},
   "outputs": [
    {
     "name": "stdout",
     "output_type": "stream",
     "text": [
      "[33, 40, 47, 49, 60, 63, 69, 73, 108, 120, 121, 126, 132, 133, 142, 143, 154, 166, 175, 183]\n"
     ]
    }
   ],
   "source": [
    "from random import randint\n",
    "indeces = []\n",
    "i = 0\n",
    "\n",
    "while i < 20:\n",
    "    val = randint(1,200)\n",
    "    if val in indeces:\n",
    "        continue\n",
    "    indeces.append(val)\n",
    "    i += 1\n",
    "\n",
    "print(sorted(indeces))"
   ]
  },
  {
   "cell_type": "code",
   "execution_count": 6,
   "id": "c78a0683",
   "metadata": {},
   "outputs": [
    {
     "name": "stdout",
     "output_type": "stream",
     "text": [
      "B35:V35,B42:V42,B49:V49,B51:V51,B62:V62,B65:V65,B71:V71,B75:V75,B110:V110,B122:V122,B123:V123,B128:V128,B134:V134,B135:V135,B144:V144,B145:V145,B156:V156,B168:V168,B177:V177,B185:V185,\n"
     ]
    }
   ],
   "source": [
    "formula = ''\n",
    "for index in sorted(indeces):\n",
    "    formula += f\"B{index+2}:V{index+2},\"\n",
    "print(formula)"
   ]
  },
  {
   "cell_type": "code",
   "execution_count": null,
   "id": "afd8324f",
   "metadata": {},
   "outputs": [],
   "source": []
  }
 ],
 "metadata": {
  "kernelspec": {
   "display_name": ".venv",
   "language": "python",
   "name": "python3"
  },
  "language_info": {
   "codemirror_mode": {
    "name": "ipython",
    "version": 3
   },
   "file_extension": ".py",
   "mimetype": "text/x-python",
   "name": "python",
   "nbconvert_exporter": "python",
   "pygments_lexer": "ipython3",
   "version": "3.13.2"
  }
 },
 "nbformat": 4,
 "nbformat_minor": 5
}
