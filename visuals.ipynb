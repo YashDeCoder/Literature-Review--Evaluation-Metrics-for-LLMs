{
 "cells": [
  {
   "cell_type": "code",
   "execution_count": 1,
   "metadata": {},
   "outputs": [],
   "source": [
    "import pandas as pd\n",
    "import altair as alt"
   ]
  },
  {
   "cell_type": "markdown",
   "metadata": {},
   "source": [
    "# Google Scholar"
   ]
  },
  {
   "cell_type": "code",
   "execution_count": 31,
   "metadata": {},
   "outputs": [
    {
     "name": "stdout",
     "output_type": "stream",
     "text": [
      "<class 'pandas.core.frame.DataFrame'>\n",
      "RangeIndex: 200 entries, 0 to 199\n",
      "Data columns (total 26 columns):\n",
      " #   Column          Non-Null Count  Dtype  \n",
      "---  ------          --------------  -----  \n",
      " 0   Cites           200 non-null    int64  \n",
      " 1   Authors         200 non-null    object \n",
      " 2   Title           200 non-null    object \n",
      " 3   Year            200 non-null    int64  \n",
      " 4   Source          193 non-null    object \n",
      " 5   Publisher       200 non-null    object \n",
      " 6   ArticleURL      200 non-null    object \n",
      " 7   CitesURL        195 non-null    object \n",
      " 8   GSRank          200 non-null    int64  \n",
      " 9   QueryDate       200 non-null    object \n",
      " 10  Type            12 non-null     object \n",
      " 11  DOI             25 non-null     object \n",
      " 12  ISSN            0 non-null      float64\n",
      " 13  CitationURL     0 non-null      float64\n",
      " 14  Volume          0 non-null      float64\n",
      " 15  Issue           0 non-null      float64\n",
      " 16  StartPage       0 non-null      float64\n",
      " 17  EndPage         0 non-null      float64\n",
      " 18  ECC             200 non-null    int64  \n",
      " 19  CitesPerYear    200 non-null    float64\n",
      " 20  CitesPerAuthor  200 non-null    int64  \n",
      " 21  AuthorCount     200 non-null    int64  \n",
      " 22  Age             200 non-null    int64  \n",
      " 23  Abstract        200 non-null    object \n",
      " 24  FullTextURL     190 non-null    object \n",
      " 25  RelatedURL      200 non-null    object \n",
      "dtypes: float64(7), int64(7), object(12)\n",
      "memory usage: 40.8+ KB\n",
      "None\n"
     ]
    }
   ],
   "source": [
    "filepath = \"papers.csv\"\n",
    "df = pd.read_csv(filepath)\n",
    "print(df.info())"
   ]
  },
  {
   "cell_type": "code",
   "execution_count": 32,
   "metadata": {},
   "outputs": [],
   "source": [
    "keywords = ['benchmark', 'llm', 'metric', 'dataset', 'rag', 'retrieval', 'augmentation', 'generation', 'framework']\n",
    "pattern = '|'.join(keywords)\n",
    "filter_df = df[df['Title'].str.contains(pattern, case=True)]\n"
   ]
  },
  {
   "cell_type": "code",
   "execution_count": 33,
   "metadata": {},
   "outputs": [
    {
     "name": "stdout",
     "output_type": "stream",
     "text": [
      "<class 'pandas.core.frame.DataFrame'>\n",
      "Index: 172 entries, 0 to 197\n",
      "Data columns (total 26 columns):\n",
      " #   Column          Non-Null Count  Dtype  \n",
      "---  ------          --------------  -----  \n",
      " 0   Cites           172 non-null    int64  \n",
      " 1   Authors         172 non-null    object \n",
      " 2   Title           172 non-null    object \n",
      " 3   Year            172 non-null    int64  \n",
      " 4   Source          166 non-null    object \n",
      " 5   Publisher       172 non-null    object \n",
      " 6   ArticleURL      172 non-null    object \n",
      " 7   CitesURL        171 non-null    object \n",
      " 8   GSRank          172 non-null    int64  \n",
      " 9   QueryDate       172 non-null    object \n",
      " 10  Type            9 non-null      object \n",
      " 11  DOI             19 non-null     object \n",
      " 12  ISSN            0 non-null      float64\n",
      " 13  CitationURL     0 non-null      float64\n",
      " 14  Volume          0 non-null      float64\n",
      " 15  Issue           0 non-null      float64\n",
      " 16  StartPage       0 non-null      float64\n",
      " 17  EndPage         0 non-null      float64\n",
      " 18  ECC             172 non-null    int64  \n",
      " 19  CitesPerYear    172 non-null    float64\n",
      " 20  CitesPerAuthor  172 non-null    int64  \n",
      " 21  AuthorCount     172 non-null    int64  \n",
      " 22  Age             172 non-null    int64  \n",
      " 23  Abstract        172 non-null    object \n",
      " 24  FullTextURL     163 non-null    object \n",
      " 25  RelatedURL      172 non-null    object \n",
      "dtypes: float64(7), int64(7), object(12)\n",
      "memory usage: 36.3+ KB\n",
      "None\n"
     ]
    }
   ],
   "source": [
    "print(filter_df.info())"
   ]
  },
  {
   "cell_type": "code",
   "execution_count": 34,
   "metadata": {},
   "outputs": [],
   "source": [
    "filter_df.to_csv('gc_filter.csv')"
   ]
  },
  {
   "cell_type": "markdown",
   "metadata": {},
   "source": [
    "## New SQ"
   ]
  },
  {
   "cell_type": "code",
   "execution_count": 4,
   "metadata": {},
   "outputs": [
    {
     "name": "stdout",
     "output_type": "stream",
     "text": [
      "<class 'pandas.core.frame.DataFrame'>\n",
      "RangeIndex: 200 entries, 0 to 199\n",
      "Data columns (total 26 columns):\n",
      " #   Column          Non-Null Count  Dtype  \n",
      "---  ------          --------------  -----  \n",
      " 0   Cites           200 non-null    int64  \n",
      " 1   Authors         200 non-null    object \n",
      " 2   Title           200 non-null    object \n",
      " 3   Year            200 non-null    int64  \n",
      " 4   Source          196 non-null    object \n",
      " 5   Publisher       200 non-null    object \n",
      " 6   ArticleURL      200 non-null    object \n",
      " 7   CitesURL        198 non-null    object \n",
      " 8   GSRank          200 non-null    int64  \n",
      " 9   QueryDate       200 non-null    object \n",
      " 10  Type            12 non-null     object \n",
      " 11  DOI             52 non-null     object \n",
      " 12  ISSN            0 non-null      float64\n",
      " 13  CitationURL     0 non-null      float64\n",
      " 14  Volume          0 non-null      float64\n",
      " 15  Issue           0 non-null      float64\n",
      " 16  StartPage       0 non-null      float64\n",
      " 17  EndPage         0 non-null      float64\n",
      " 18  ECC             200 non-null    int64  \n",
      " 19  CitesPerYear    200 non-null    float64\n",
      " 20  CitesPerAuthor  200 non-null    int64  \n",
      " 21  AuthorCount     200 non-null    int64  \n",
      " 22  Age             200 non-null    int64  \n",
      " 23  Abstract        200 non-null    object \n",
      " 24  FullTextURL     195 non-null    object \n",
      " 25  RelatedURL      200 non-null    object \n",
      "dtypes: float64(7), int64(7), object(12)\n",
      "memory usage: 40.8+ KB\n",
      "None\n"
     ]
    }
   ],
   "source": [
    "filepath = \"gc_llm4se.csv\"\n",
    "df = pd.read_csv(filepath)\n",
    "print(df.info())"
   ]
  },
  {
   "cell_type": "code",
   "execution_count": 14,
   "metadata": {},
   "outputs": [],
   "source": [
    "keywords = ['survey', 'review']\n",
    "pattern = '|'.join(keywords)\n",
    "# case True means case sensitive\n",
    "filter_df = df[~df['Title'].str.contains(pattern, case=False)]"
   ]
  },
  {
   "cell_type": "code",
   "execution_count": 15,
   "metadata": {},
   "outputs": [
    {
     "name": "stdout",
     "output_type": "stream",
     "text": [
      "<class 'pandas.core.frame.DataFrame'>\n",
      "Index: 181 entries, 4 to 199\n",
      "Data columns (total 26 columns):\n",
      " #   Column          Non-Null Count  Dtype  \n",
      "---  ------          --------------  -----  \n",
      " 0   Cites           181 non-null    int64  \n",
      " 1   Authors         181 non-null    object \n",
      " 2   Title           181 non-null    object \n",
      " 3   Year            181 non-null    int64  \n",
      " 4   Source          177 non-null    object \n",
      " 5   Publisher       181 non-null    object \n",
      " 6   ArticleURL      181 non-null    object \n",
      " 7   CitesURL        179 non-null    object \n",
      " 8   GSRank          181 non-null    int64  \n",
      " 9   QueryDate       181 non-null    object \n",
      " 10  Type            12 non-null     object \n",
      " 11  DOI             50 non-null     object \n",
      " 12  ISSN            0 non-null      float64\n",
      " 13  CitationURL     0 non-null      float64\n",
      " 14  Volume          0 non-null      float64\n",
      " 15  Issue           0 non-null      float64\n",
      " 16  StartPage       0 non-null      float64\n",
      " 17  EndPage         0 non-null      float64\n",
      " 18  ECC             181 non-null    int64  \n",
      " 19  CitesPerYear    181 non-null    float64\n",
      " 20  CitesPerAuthor  181 non-null    int64  \n",
      " 21  AuthorCount     181 non-null    int64  \n",
      " 22  Age             181 non-null    int64  \n",
      " 23  Abstract        181 non-null    object \n",
      " 24  FullTextURL     176 non-null    object \n",
      " 25  RelatedURL      181 non-null    object \n",
      "dtypes: float64(7), int64(7), object(12)\n",
      "memory usage: 38.2+ KB\n",
      "None\n"
     ]
    }
   ],
   "source": [
    "print(filter_df.info())"
   ]
  },
  {
   "cell_type": "code",
   "execution_count": 16,
   "metadata": {},
   "outputs": [],
   "source": [
    "filter_df.to_csv('gc_llm4se_filter.csv')"
   ]
  },
  {
   "cell_type": "markdown",
   "metadata": {},
   "source": [
    "# CrossRef"
   ]
  },
  {
   "cell_type": "code",
   "execution_count": 18,
   "metadata": {},
   "outputs": [
    {
     "name": "stdout",
     "output_type": "stream",
     "text": [
      "<class 'pandas.core.frame.DataFrame'>\n",
      "RangeIndex: 1000 entries, 0 to 999\n",
      "Data columns (total 26 columns):\n",
      " #   Column          Non-Null Count  Dtype  \n",
      "---  ------          --------------  -----  \n",
      " 0   Cites           1000 non-null   int64  \n",
      " 1   Authors         983 non-null    object \n",
      " 2   Title           1000 non-null   object \n",
      " 3   Year            1000 non-null   int64  \n",
      " 4   Source          777 non-null    object \n",
      " 5   Publisher       1000 non-null   object \n",
      " 6   ArticleURL      1000 non-null   object \n",
      " 7   CitesURL        0 non-null      float64\n",
      " 8   GSRank          1000 non-null   int64  \n",
      " 9   QueryDate       1000 non-null   object \n",
      " 10  Type            1000 non-null   object \n",
      " 11  DOI             1000 non-null   object \n",
      " 12  ISSN            319 non-null    object \n",
      " 13  CitationURL     0 non-null      float64\n",
      " 14  Volume          262 non-null    float64\n",
      " 15  Issue           186 non-null    float64\n",
      " 16  StartPage       649 non-null    float64\n",
      " 17  EndPage         649 non-null    float64\n",
      " 18  ECC             1000 non-null   int64  \n",
      " 19  CitesPerYear    1000 non-null   float64\n",
      " 20  CitesPerAuthor  1000 non-null   int64  \n",
      " 21  AuthorCount     1000 non-null   int64  \n",
      " 22  Age             1000 non-null   int64  \n",
      " 23  Abstract        283 non-null    object \n",
      " 24  FullTextURL     603 non-null    object \n",
      " 25  RelatedURL      0 non-null      float64\n",
      "dtypes: float64(8), int64(7), object(11)\n",
      "memory usage: 203.3+ KB\n",
      "None\n"
     ]
    }
   ],
   "source": [
    "filepath = \"crossref.csv\"\n",
    "df = pd.read_csv(filepath)\n",
    "print(df.info())"
   ]
  },
  {
   "cell_type": "code",
   "execution_count": 25,
   "metadata": {},
   "outputs": [],
   "source": [
    "keywords = ['metric', 'dataset', 'benchmark', 'framework']\n",
    "pattern = '|'.join(keywords)\n",
    "filter_df = df[df['Abstract'].str.contains(pattern, case=True, na=False)].reset_index()\n"
   ]
  },
  {
   "cell_type": "code",
   "execution_count": 28,
   "metadata": {},
   "outputs": [
    {
     "name": "stdout",
     "output_type": "stream",
     "text": [
      "<class 'pandas.core.frame.DataFrame'>\n",
      "RangeIndex: 176 entries, 0 to 175\n",
      "Data columns (total 27 columns):\n",
      " #   Column          Non-Null Count  Dtype  \n",
      "---  ------          --------------  -----  \n",
      " 0   index           176 non-null    int64  \n",
      " 1   Cites           176 non-null    int64  \n",
      " 2   Authors         176 non-null    object \n",
      " 3   Title           176 non-null    object \n",
      " 4   Year            176 non-null    int64  \n",
      " 5   Source          97 non-null     object \n",
      " 6   Publisher       176 non-null    object \n",
      " 7   ArticleURL      176 non-null    object \n",
      " 8   CitesURL        0 non-null      float64\n",
      " 9   GSRank          176 non-null    int64  \n",
      " 10  QueryDate       176 non-null    object \n",
      " 11  Type            176 non-null    object \n",
      " 12  DOI             176 non-null    object \n",
      " 13  ISSN            87 non-null     object \n",
      " 14  CitationURL     0 non-null      float64\n",
      " 15  Volume          83 non-null     float64\n",
      " 16  Issue           70 non-null     float64\n",
      " 17  StartPage       67 non-null     float64\n",
      " 18  EndPage         67 non-null     float64\n",
      " 19  ECC             176 non-null    int64  \n",
      " 20  CitesPerYear    176 non-null    float64\n",
      " 21  CitesPerAuthor  176 non-null    int64  \n",
      " 22  AuthorCount     176 non-null    int64  \n",
      " 23  Age             176 non-null    int64  \n",
      " 24  Abstract        176 non-null    object \n",
      " 25  FullTextURL     113 non-null    object \n",
      " 26  RelatedURL      0 non-null      float64\n",
      "dtypes: float64(8), int64(8), object(11)\n",
      "memory usage: 37.3+ KB\n",
      "None\n"
     ]
    }
   ],
   "source": [
    "print(filter_df.info())"
   ]
  },
  {
   "cell_type": "code",
   "execution_count": 29,
   "metadata": {},
   "outputs": [],
   "source": [
    "filter_df.to_csv('crossref_filter.csv')"
   ]
  },
  {
   "cell_type": "markdown",
   "metadata": {},
   "source": [
    "Might be nice to mention the amount of case studies, emperical studies, studies about code generation and taxonomies. Many papers referencing agents"
   ]
  },
  {
   "cell_type": "markdown",
   "metadata": {},
   "source": [
    "## After Pre-processing"
   ]
  },
  {
   "cell_type": "code",
   "execution_count": 4,
   "metadata": {},
   "outputs": [
    {
     "name": "stdout",
     "output_type": "stream",
     "text": [
      "<class 'pandas.core.frame.DataFrame'>\n",
      "Index: 201 entries, 1.0 to nan\n",
      "Data columns (total 29 columns):\n",
      " #   Column                 Non-Null Count  Dtype  \n",
      "---  ------                 --------------  -----  \n",
      " 0   YEAR                   181 non-null    float64\n",
      " 1   TITLE                  181 non-null    object \n",
      " 2   ABSTRACT               132 non-null    object \n",
      " 3   KEYWORDS               104 non-null    object \n",
      " 4   AUTHORS                181 non-null    object \n",
      " 5   VENUE                  1 non-null      object \n",
      " 6   JOURNAL or Conference  0 non-null      float64\n",
      " 7   DOI                    0 non-null      float64\n",
      " 8   URL                    181 non-null    object \n",
      " 9   CIT                    30 non-null     float64\n",
      " 10  E1                     200 non-null    object \n",
      " 11  E2                     200 non-null    object \n",
      " 12  E3                     200 non-null    object \n",
      " 13  E4                     200 non-null    object \n",
      " 14  E5                     200 non-null    object \n",
      " 15  I1                     200 non-null    object \n",
      " 16  I2                     200 non-null    object \n",
      " 17  I3                     200 non-null    object \n",
      " 18  Included?              201 non-null    object \n",
      " 19  Researcher             0 non-null      float64\n",
      " 20  Metric                 78 non-null     object \n",
      " 21  Notes                  93 non-null     object \n",
      " 22  Unnamed: 23            0 non-null      float64\n",
      " 23  Unnamed: 24            0 non-null      float64\n",
      " 24  Unnamed: 25            0 non-null      float64\n",
      " 25  Unnamed: 26            0 non-null      float64\n",
      " 26  Unnamed: 27            0 non-null      float64\n",
      " 27  Unnamed: 28            0 non-null      float64\n",
      " 28  Old ID                 0 non-null      float64\n",
      "dtypes: float64(12), object(17)\n",
      "memory usage: 47.1+ KB\n",
      "None\n"
     ]
    }
   ],
   "source": [
    "filepath = \"Data-extraction.csv\"\n",
    "df = pd.read_csv(filepath, index_col=0)\n",
    "print(df.info())"
   ]
  },
  {
   "cell_type": "code",
   "execution_count": null,
   "metadata": {},
   "outputs": [],
   "source": []
  }
 ],
 "metadata": {
  "kernelspec": {
   "display_name": ".venv",
   "language": "python",
   "name": "python3"
  },
  "language_info": {
   "codemirror_mode": {
    "name": "ipython",
    "version": 3
   },
   "file_extension": ".py",
   "mimetype": "text/x-python",
   "name": "python",
   "nbconvert_exporter": "python",
   "pygments_lexer": "ipython3",
   "version": "3.13.2"
  }
 },
 "nbformat": 4,
 "nbformat_minor": 2
}
